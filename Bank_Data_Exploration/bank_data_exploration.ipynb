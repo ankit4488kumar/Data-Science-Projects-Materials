{
  "nbformat": 4,
  "nbformat_minor": 0,
  "metadata": {
    "colab": {
      "private_outputs": true,
      "provenance": [],
      "authorship_tag": "ABX9TyPKr3bKte5tnHNVK706+nGf",
      "include_colab_link": true
    },
    "kernelspec": {
      "name": "python3",
      "display_name": "Python 3"
    },
    "language_info": {
      "name": "python"
    }
  },
  "cells": [
    {
      "cell_type": "markdown",
      "metadata": {
        "id": "view-in-github",
        "colab_type": "text"
      },
      "source": [
        "<a href=\"https://colab.research.google.com/github/ankit4488kumar/Data-Science-Projects-Materials/blob/main/Bank_Data_Exploration/bank_data_exploration.ipynb\" target=\"_parent\"><img src=\"https://colab.research.google.com/assets/colab-badge.svg\" alt=\"Open In Colab\"/></a>"
      ]
    },
    {
      "cell_type": "markdown",
      "source": [
        "Import Required Libraries"
      ],
      "metadata": {
        "id": "EXJzPl9-sSPi"
      }
    },
    {
      "cell_type": "code",
      "source": [
        "import numpy as np\n",
        "import pandas as pd\n",
        "import seaborn as sns\n",
        "import matplotlib.pyplot as plt\n",
        "\n",
        "from xgboost import XGBRegressor\n",
        "from sklearn.feature_extraction.text import TfidfVectorizer\n",
        "from sklearn.preprocessing import LabelEncoder\n",
        "from sklearn.model_selection import train_test_split\n",
        "from sklearn.metrics import mean_squared_error, r2_score\n",
        "from sklearn.model_selection import KFold\n",
        "from sklearn.model_selection import cross_val_score\n",
        "import sklearn.metrics"
      ],
      "metadata": {
        "id": "5uQVDJcYsPF4"
      },
      "execution_count": null,
      "outputs": []
    },
    {
      "cell_type": "code",
      "source": [
        "df = pd.read_excel(\"bank.xlsx\")"
      ],
      "metadata": {
        "id": "h1-WiXFisYN1"
      },
      "execution_count": null,
      "outputs": []
    },
    {
      "cell_type": "code",
      "source": [
        "df.head()"
      ],
      "metadata": {
        "id": "PkEO44QltxyA"
      },
      "execution_count": null,
      "outputs": []
    },
    {
      "cell_type": "code",
      "source": [
        "def date_to_float(date_data):\n",
        "    return (date_data - date_data.min())  / np.timedelta64(1,'D')\n"
      ],
      "metadata": {
        "id": "XoUX3b-iuajK"
      },
      "execution_count": null,
      "outputs": []
    },
    {
      "cell_type": "code",
      "source": [
        "df[\"DATE DAYS\"] = date_to_float(df[\"VALUE DATE\"])\n",
        "dates = pd.Series(df[\"DATE\"])\n",
        "df[\"YEAR\"] = dates.dt.year\n",
        "df[\"MONTH\"] = dates.dt.month\n",
        "df[\"WEEK\"] = dates.dt.isocalendar().week\n",
        "df[\"DAY\"] = dates.dt.day\n",
        "df[\"DAYOFWEEK\"] = dates.dt.dayofweek\n",
        "df[\"Account No\"] = df[\"Account No\"].replace(df[\"Account No\"].unique(),[\"A\",\"B\",\"C\",\"D\",\"E\",\"F\",\"G\",\"H\",\"I\",\"J\"])"
      ],
      "metadata": {
        "id": "jmDvBGSmup3X"
      },
      "execution_count": null,
      "outputs": []
    },
    {
      "cell_type": "code",
      "source": [
        "df[\"DATE DAYS\"] = date_to_float(df[\"VALUE DATE\"])\n",
        "#dates = pd.Series(df[\"DATE\"])\n",
        "df['DATE'] = pd.to_datetime(df['DATE'])\n",
        "df[\"YEAR\"] = df['DATE'].dt.year\n",
        "df[\"MONTH\"] = df['DATE'].dt.month\n",
        "df[\"WEEK\"] = df['DATE'].dt.isocalendar().week\n",
        "df[\"DAY\"] = df['DATE'].dt.day\n",
        "df[\"DAYOFWEEK\"] = df['DATE'].dt.dayofweek\n"
      ],
      "metadata": {
        "id": "k1eE-HCC3laa"
      },
      "execution_count": null,
      "outputs": []
    },
    {
      "cell_type": "code",
      "source": [
        "df.head()"
      ],
      "metadata": {
        "id": "TgN2Tkey4Li_"
      },
      "execution_count": null,
      "outputs": []
    },
    {
      "cell_type": "code",
      "source": [
        "df.info()"
      ],
      "metadata": {
        "id": "zTifAlMY5XjG"
      },
      "execution_count": null,
      "outputs": []
    },
    {
      "cell_type": "code",
      "source": [
        "df.isnull().sum()"
      ],
      "metadata": {
        "id": "tGPXm2ZU5b4d"
      },
      "execution_count": null,
      "outputs": []
    },
    {
      "cell_type": "code",
      "source": [
        "df['Account No'].nunique()"
      ],
      "metadata": {
        "id": "Sttd-Ix05hrU"
      },
      "execution_count": null,
      "outputs": []
    },
    {
      "cell_type": "code",
      "source": [
        "df[\"Account No\"] = df[\"Account No\"].replace(df[\"Account No\"].unique(),[f'A_{i}' for i in range(1,df['Account No'].nunique()+1)])"
      ],
      "metadata": {
        "id": "mAIH-yaP4HD1"
      },
      "execution_count": null,
      "outputs": []
    },
    {
      "cell_type": "code",
      "source": [
        "df.head()"
      ],
      "metadata": {
        "id": "M5ZiGPuM5ToP"
      },
      "execution_count": null,
      "outputs": []
    },
    {
      "cell_type": "markdown",
      "source": [
        "Statstical Metrices"
      ],
      "metadata": {
        "id": "B6R8XaG7u2kD"
      }
    },
    {
      "cell_type": "code",
      "source": [
        "# Creating some statsticals measures\n",
        "\n",
        "unique_accounts = df[\"Account No\"].unique()\n",
        "balance_mins = []\n",
        "balance_maxs = []\n",
        "balance_means = []\n",
        "balance_meds = []\n",
        "deposit_mins = []\n",
        "deposit_maxs = []\n",
        "deposit_means = []\n",
        "deposit_number = []\n",
        "deposit_meds = []\n",
        "withdrawal_mins = []\n",
        "withdrawal_maxs = []\n",
        "withdrawal_means = []\n",
        "withdrawal_number = []\n",
        "withdrawal_meds = []\n",
        "for acc in unique_accounts:\n",
        "    balance_mins.append(df[df[\"Account No\"] == acc][[\"BALANCE AMT\"]].min().values[0])\n",
        "    balance_maxs.append(df[df[\"Account No\"] == acc][[\"BALANCE AMT\"]].max().values[0])\n",
        "    balance_means.append(df[df[\"Account No\"] == acc][[\"BALANCE AMT\"]].mean().values[0])\n",
        "    balance_meds.append(df[df[\"Account No\"] == acc][[\"BALANCE AMT\"]].median().values[0])\n",
        "\n",
        "    deposit_mins.append(df[df[\"Account No\"] == acc][[\"DEPOSIT AMT\"]].min().values[0])\n",
        "    deposit_maxs.append(df[df[\"Account No\"] == acc][[\"DEPOSIT AMT\"]].max().values[0])\n",
        "    deposit_means.append(df[df[\"Account No\"] == acc][[\"DEPOSIT AMT\"]].mean().values[0])\n",
        "    deposit_number.append(df[df[\"Account No\"] == acc][[\"DEPOSIT AMT\"]].count().values[0])\n",
        "    deposit_meds.append(df[df[\"Account No\"] == acc][[\"DEPOSIT AMT\"]].median().values[0])\n",
        "\n",
        "    withdrawal_mins.append(df[df[\"Account No\"] == acc][[\"WITHDRAWAL AMT\"]].min().values[0])\n",
        "    withdrawal_maxs.append(df[df[\"Account No\"] == acc][[\"WITHDRAWAL AMT\"]].max().values[0])\n",
        "    withdrawal_means.append(df[df[\"Account No\"] == acc][[\"WITHDRAWAL AMT\"]].mean().values[0])\n",
        "    withdrawal_number.append(df[df[\"Account No\"] == acc][[\"WITHDRAWAL AMT\"]].count().values[0])\n",
        "    withdrawal_meds.append(df[df[\"Account No\"] == acc][[\"WITHDRAWAL AMT\"]].median().values[0])\n"
      ],
      "metadata": {
        "id": "5DFgHhd6u4qM"
      },
      "execution_count": null,
      "outputs": []
    },
    {
      "cell_type": "code",
      "source": [
        "balance_mins"
      ],
      "metadata": {
        "id": "KKOxqzq06zb3"
      },
      "execution_count": null,
      "outputs": []
    },
    {
      "cell_type": "code",
      "source": [
        "#creating accounts data\n",
        "account_data = pd.DataFrame(list(zip(unique_accounts, deposit_number, deposit_mins, deposit_maxs, deposit_means, deposit_meds, withdrawal_number, withdrawal_mins, withdrawal_maxs, withdrawal_means, withdrawal_meds, balance_mins, balance_maxs, balance_means, balance_meds)),\n",
        "                           columns=[\"Account No\",\"DEPOSIT N°\",\"DEPOSIT MIN\", \"DEPOSIT MAX\", \"DEPOSIT MEAN\", \"DEPOSIT MEDIAN\", \"WITHDRAWAL N°\", \"WITHDRAWAL MIN\", \"WITHDRAWAL MAX\",\"WITHDRAWAL MEAN\", \"WITHDRAWAL MEDIAN\", \"BALANCE MIN\", \"BALANCE MAX\", \"BALANCE MEAN\", \"BALANCE MEDIAN\"]).round()\n",
        "account_data"
      ],
      "metadata": {
        "id": "6Ivpolxu6mPz"
      },
      "execution_count": null,
      "outputs": []
    },
    {
      "cell_type": "markdown",
      "source": [
        "Statstical Exploration"
      ],
      "metadata": {
        "id": "OFGW_jML8Ooj"
      }
    },
    {
      "cell_type": "code",
      "source": [
        "ax = 0\n",
        "for acc in unique_accounts:\n",
        "    if ax == 0:\n",
        "        ax = df[df[\"Account No\"] == acc][[\"Account No\",\"VALUE DATE\",\"BALANCE AMT\"]].rename(columns={\"BALANCE AMT\":acc}).groupby([\"VALUE DATE\"]).mean().plot(ylabel=\"BALANCE\",ylim=(-2500000000,1000000000), figsize=(10,10))\n",
        "    else :\n",
        "        df[df[\"Account No\"] == acc][[\"Account No\",\"VALUE DATE\",\"BALANCE AMT\"]].rename(columns={\"BALANCE AMT\":acc}).groupby([\"VALUE DATE\"]).mean().plot(ax=ax, ylabel=\"BALANCE\", ylim=(-2500000000,1000000000), figsize=(10,10)).set_title(\"Accounts balance evolution over the period\")\n",
        ""
      ],
      "metadata": {
        "id": "uyjF5yKSu6q0"
      },
      "execution_count": null,
      "outputs": []
    },
    {
      "cell_type": "markdown",
      "source": [],
      "metadata": {
        "id": "Xx5AwrZn86rN"
      }
    },
    {
      "cell_type": "code",
      "source": [
        "#Transation Density\n",
        "for acc in unique_accounts:\n",
        "    df[df[\"Account No\"] == acc][[\"Account No\",\"VALUE DATE\",\"BALANCE AMT\"]].rename(columns={\"BALANCE AMT\": \"transaction day\"}).groupby([\"VALUE DATE\"]).mean().plot(ylabel=\"BALANCE\",style=\".-\",figsize=(10,10), title=\"Averaged balance and transaction density over the period - Account \" + acc )"
      ],
      "metadata": {
        "id": "T-6h-yYgvEUp"
      },
      "execution_count": null,
      "outputs": []
    },
    {
      "cell_type": "markdown",
      "source": [
        "Transaction periodicity:-\n",
        "Ratio of Deposite percentage and Withdrawals percentage"
      ],
      "metadata": {
        "id": "S8LkmWR8-BKE"
      }
    },
    {
      "cell_type": "code",
      "source": [
        "#For Deposite Percentage\n",
        "deposits = []\n",
        "for acc in unique_accounts:\n",
        "    deposits.append(df[df[\"Account No\"] == acc][[\"VALUE DATE\",\"YEAR\",\"MONTH\",\"DAY\",\"DAYOFWEEK\",\"DEPOSIT AMT\"]].rename(columns={\"DEPOSIT AMT\":acc+\" : DEPOSIT\"}).groupby([\"VALUE DATE\",\"YEAR\",\"MONTH\",\"DAY\",\"DAYOFWEEK\"]).count())\n",
        "deposits = pd.concat(deposits)\n",
        "\n",
        "deposits_percent = deposits\n",
        "tot = deposits.groupby(\"MONTH\").sum().sum(axis=0).to_numpy()\n",
        "i = 0\n",
        "for column in deposits:\n",
        "    deposits_percent[column] = deposits[column]/tot[i]\n",
        "    i = i + 1\n",
        "\n"
      ],
      "metadata": {
        "id": "IQZRwehBvJ8t"
      },
      "execution_count": null,
      "outputs": []
    },
    {
      "cell_type": "code",
      "source": [
        "deposits_percent"
      ],
      "metadata": {
        "id": "05Gw-Cfm--Fw"
      },
      "execution_count": null,
      "outputs": []
    },
    {
      "cell_type": "code",
      "source": [
        "##For Withdrawals Percentage\n",
        "withdrawals = []\n",
        "for acc in unique_accounts:\n",
        "    withdrawals.append(df[df[\"Account No\"] == acc][[\"VALUE DATE\",\"YEAR\",\"MONTH\",\"DAY\",\"DAYOFWEEK\",\"WITHDRAWAL AMT\"]].rename(columns={\"WITHDRAWAL AMT\":acc+\" : WITHDRAWAL\"}).groupby([\"VALUE DATE\",\"YEAR\",\"MONTH\",\"DAY\",\"DAYOFWEEK\"]).count())\n",
        "withdrawals = pd.concat(withdrawals)\n",
        "\n",
        "withdrawals_percent = withdrawals\n",
        "tot = withdrawals.groupby(\"MONTH\").sum().sum(axis=0).to_numpy()\n",
        "i = 0\n",
        "for column in withdrawals:\n",
        "    withdrawals_percent[column] = withdrawals[column]/tot[i]\n",
        "    i = i + 1"
      ],
      "metadata": {
        "id": "2_dbKcuR-0Nt"
      },
      "execution_count": null,
      "outputs": []
    },
    {
      "cell_type": "code",
      "source": [
        "withdrawals_percent"
      ],
      "metadata": {
        "id": "N9UhuVsB_ZMS"
      },
      "execution_count": null,
      "outputs": []
    },
    {
      "cell_type": "code",
      "source": [
        "ax = plt.axes()\n",
        "sns.heatmap(deposits_percent.groupby(\"YEAR\").sum(), ax=ax)\n",
        "ax.set_title(\"Accounts proportion of deposit per year\")\n",
        "plt.show()\n",
        "\n",
        "ax = plt.axes()\n",
        "sns.heatmap(withdrawals_percent.groupby(\"YEAR\").sum(), ax=ax)\n",
        "ax.set_title(\"Accounts proportion of withdrawal per year\")\n",
        "plt.show()"
      ],
      "metadata": {
        "id": "uvJTfNFGvTkY"
      },
      "execution_count": null,
      "outputs": []
    },
    {
      "cell_type": "code",
      "source": [
        "def absolute_maximum_scale(series):\n",
        "    return series / series.abs().max()\n",
        "\n",
        "balances = []\n",
        "for acc in unique_accounts:\n",
        "    balances.append(df[df[\"Account No\"] == acc][[\"VALUE DATE\",\"YEAR\",\"MONTH\",\"DAY\",\"DAYOFWEEK\",\"BALANCE AMT\"]].rename(columns={\"BALANCE AMT\":acc+\" : BALANCE MEAN\"}).groupby([\"VALUE DATE\",\"YEAR\",\"MONTH\",\"DAY\",\"DAYOFWEEK\"]).mean())\n",
        "balances = pd.concat(balances)\n",
        "balances_proportion = balances\n",
        "for col in balances_proportion.columns:\n",
        "    balances_proportion[col] = absolute_maximum_scale(balances[col])"
      ],
      "metadata": {
        "id": "1up1DU1dvXa6"
      },
      "execution_count": null,
      "outputs": []
    },
    {
      "cell_type": "code",
      "source": [
        "ax = plt.axes()\n",
        "sns.heatmap(balances_proportion.groupby(\"MONTH\").mean(), ax=ax)\n",
        "ax.set_title(\"Balance level depending on each month of the year (normalized)\")\n",
        "plt.show()"
      ],
      "metadata": {
        "id": "Jk92xoDsvcl-"
      },
      "execution_count": null,
      "outputs": []
    },
    {
      "cell_type": "code",
      "source": [
        "def balance_prediction(account_no):\n",
        "    X = df[df[\"Account No\"] == account_no][[\"YEAR\",\"MONTH\",\"WEEK\",\"DAYOFWEEK\",\"DAY\"]].drop_duplicates().to_numpy()\n",
        "    y = df[df[\"Account No\"] == account_no][[\"YEAR\",\"MONTH\",\"WEEK\",\"DAYOFWEEK\",\"DAY\",\"BALANCE AMT\"]].groupby([\"YEAR\",\"MONTH\",\"WEEK\",\"DAYOFWEEK\",\"DAY\"]).mean().to_numpy()\n",
        "    #x_train, x_test, y_train, y_test = train_test_split(x,y, test_size=0.25, stratify=[element > 1 for element in y.values])\n",
        "\n",
        "    params = {\n",
        "    \"n_estimators\": 500,\n",
        "    \"max_depth\": 10,\n",
        "    \"learning_rate\": 0.01,\n",
        "    }\n",
        "    lm = XGBRegressor()\n",
        "\n",
        "    kf = KFold(n_splits=10, random_state=None, shuffle=True)\n",
        "\n",
        "    for train_index , test_index in kf.split(X):\n",
        "        X_train , X_test = X[train_index,:],X[test_index,:]\n",
        "        y_train , y_test = y[train_index] , y[test_index]\n",
        "\n",
        "        lm.fit(X_train,y_train)\n",
        "        pred_values = lm.predict(X_test)\n",
        "\n",
        "        r2 = f\"R2 score: {r2_score(y_test[:,0], pred_values)}\"\n",
        "        print(r2)\n",
        "        Val = pd.DataFrame({\"ACTUAL\": y_test[:,0], \"PREDICTED\": pred_values})\n",
        "        Val.sort_values(\"ACTUAL\").reset_index()[[\"ACTUAL\", \"PREDICTED\"]].plot(title=\"Account : \" + account_no, xlabel =r2)\n",
        ""
      ],
      "metadata": {
        "id": "hXXR7mXGvgND"
      },
      "execution_count": null,
      "outputs": []
    },
    {
      "cell_type": "code",
      "source": [
        "for acc in unique_accounts:\n",
        "    print(\"\\nAccount : \" + acc)\n",
        "    balance_prediction(acc)"
      ],
      "metadata": {
        "id": "fC82IiGdvt4l"
      },
      "execution_count": null,
      "outputs": []
    },
    {
      "cell_type": "code",
      "source": [],
      "metadata": {
        "id": "_2MLeMRFvy6Z"
      },
      "execution_count": null,
      "outputs": []
    }
  ]
}